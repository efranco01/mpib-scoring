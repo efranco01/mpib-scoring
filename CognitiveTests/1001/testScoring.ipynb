{
 "cells": [
  {
   "cell_type": "code",
   "execution_count": null,
   "metadata": {},
   "outputs": [],
   "source": [
    "# INPUT:\n",
    "# TODO: Build simple ui or just use terminal for inputs\n",
    "# TODO: Automatically score scripts that have been found in directory\n",
    "\n",
    "# SCORING:\n",
    "# TODO: Find tests\n",
    "# TODO: Parse files to get necessary info\n",
    "# TODO: Develop relevant utility functions\n",
    "# TODO: Make sure to score all trials separately (practices can be scored all at once)\n",
    "# TODO: All proportion correct should be displayed in percentage format\n",
    "# TODO: Make sure to average response time\n",
    "# TODO: Display response times per each response later on\n",
    "# TODO: Response time correct vs incorrect avgs\n",
    "# TODO: Score distance using city block method (will be in the nitty gritty area)\n",
    "# TODO: Score avg distance across trials\n",
    "\n",
    "# OUTPUT:\n",
    "# TODO: Open csv for each test scored\n",
    "# TODO: Show preliminary information first\n",
    "# TODO: Display more in-depth details further along (horizontal)\n",
    "# TODO: Display avg distance from correct block (incorrect answers) in the \n",
    "# TODO: Place all scored files in scored directory\n",
    "# TODO: Print LOGS stating what is being done\n",
    "\n",
    "# FINAL:\n",
    "# TODO: Migrate .ipynb to .py format and finish syncing script\n",
    "# TODO: Make script executable?!?!\n",
    "# TODO: Allow for more in-depth customization in args (argparse)"
   ]
  },
  {
   "cell_type": "code",
   "execution_count": 8,
   "metadata": {},
   "outputs": [],
   "source": [
    "import numpy as np\n",
    "import pandas as pd\n",
    "import matplotlib.pyplot as plot\n",
    "import os\n",
    "import logging as log\n",
    "\n",
    "class Util:\n",
    "    def __init__(self) -> None:\n",
    "        pass\n",
    "\n",
    "    def findFile(testName=str):\n",
    "\n",
    "        # Get the absolute path of the current script file\n",
    "        current_script_path = os.path.abspath(__file__)\n",
    "\n",
    "        # Get the directory containing the script file\n",
    "        current_dir = os.path.dirname(current_script_path)\n",
    "\n",
    "        # Change the current working directory to the script directory\n",
    "        os.chdir(current_dir)\n",
    "\n",
    "        # Search for files containing the test name\n",
    "        for file_name in os.listdir(current_dir):\n",
    "            if file_name.endswith('.txt'):  # change the extension as needed\n",
    "                if testName in file_name:\n",
    "                    file_path = os.path.join(current_dir, file_name)\n",
    "                    pd.read_csv(file_path)\n",
    "                    print(file_path)\n",
    "                    \n",
    "\n",
    "class InputHandler(Util):\n",
    "    def __init__(self) -> None:\n",
    "        super().__init__()\n",
    "\n",
    "\n",
    "class OutputHandler(Util):\n",
    "    def __init__(self) -> None:\n",
    "        super().__init__()\n",
    "\n",
    "    \n",
    "\n",
    "myUtil = Util()\n",
    "myOutputHandler = OutputHandler()\n"
   ]
  },
  {
   "cell_type": "code",
   "execution_count": 13,
   "metadata": {},
   "outputs": [
    {
     "name": "stdout",
     "output_type": "stream",
     "text": [
      "    1001\\t2\\t6\\t1\\tPRACT\\t1\\t8000\\t500\\t2\\tFa4_1211\\tFa4_2211\\t/\\t/\\t1\\t1741\\t2023\\t4\\t5\\t15\\t38\\t21\n",
      "0    1001\\t2\\t6\\t1\\tPRACT\\t2\\t8000\\t500\\t2\\tFa1_331...                                              \n",
      "1    1001\\t2\\t6\\t1\\tPRACT\\t3\\t8000\\t500\\t1\\tFa2_232...                                              \n",
      "2    1001\\t2\\t6\\t1\\tPRACT\\t4\\t8000\\t500\\t1\\tFa3_311...                                              \n",
      "3    1001\\t2\\t6\\t1\\tPRACT\\t5\\t8000\\t500\\t1\\tFa1_212...                                              \n",
      "4    1001\\t2\\t6\\t1\\tPRACT\\t6\\t8000\\t500\\t2\\tFa1_221...                                              \n",
      "..                                                 ...                                              \n",
      "114  1001\\t2\\t6\\t3\\tTRIAL2\\t36\\t8000\\t500\\t2\\tFc4_1...                                              \n",
      "115  1001\\t2\\t6\\t3\\tTRIAL2\\t37\\t8000\\t500\\t1\\tFc2_2...                                              \n",
      "116  1001\\t2\\t6\\t3\\tTRIAL2\\t38\\t8000\\t500\\t1\\tFc4_2...                                              \n",
      "117  1001\\t2\\t6\\t3\\tTRIAL2\\t39\\t8000\\t500\\t1\\tFc4_2...                                              \n",
      "118  1001\\t2\\t6\\t3\\tTRIAL2\\t40\\t8000\\t500\\t1\\tFc1_3...                                              \n",
      "\n",
      "[119 rows x 1 columns]\n"
     ]
    }
   ],
   "source": [
    "def luScore():\n",
    "    file = pd.read_csv('1001_FiguralSpeed.txt')\n",
    "    print(file)\n",
    "luScore()"
   ]
  },
  {
   "cell_type": "code",
   "execution_count": null,
   "metadata": {},
   "outputs": [],
   "source": [
    "def nbScore():\n",
    "    pd.read_csv()\n",
    "    pass\n",
    "\n",
    "nbScore()"
   ]
  },
  {
   "cell_type": "code",
   "execution_count": null,
   "metadata": {},
   "outputs": [],
   "source": [
    "def suScore():\n",
    "    pass\n",
    "\n",
    "suScore()"
   ]
  },
  {
   "cell_type": "code",
   "execution_count": null,
   "metadata": {},
   "outputs": [],
   "source": [
    "def stScore():\n",
    "    pass\n",
    "\n",
    "stScore()"
   ]
  },
  {
   "cell_type": "code",
   "execution_count": null,
   "metadata": {},
   "outputs": [],
   "source": [
    "def wrScore():\n",
    "    pass\n",
    "\n",
    "wrScore()"
   ]
  },
  {
   "cell_type": "code",
   "execution_count": null,
   "metadata": {},
   "outputs": [],
   "source": [
    "def nsScore():\n",
    "    pass\n",
    "\n",
    "nsScore()"
   ]
  },
  {
   "cell_type": "code",
   "execution_count": null,
   "metadata": {},
   "outputs": [],
   "source": [
    "def olmScore():\n",
    "    pass\n",
    "\n",
    "olmScore()"
   ]
  },
  {
   "cell_type": "code",
   "execution_count": null,
   "metadata": {},
   "outputs": [],
   "source": [
    "def vsScore():\n",
    "    pass\n",
    "\n",
    "vsScore()"
   ]
  },
  {
   "cell_type": "code",
   "execution_count": null,
   "metadata": {},
   "outputs": [],
   "source": [
    "def nmScore():\n",
    "    pass\n",
    "\n",
    "nmScore()"
   ]
  },
  {
   "cell_type": "code",
   "execution_count": null,
   "metadata": {},
   "outputs": [],
   "source": [
    "def fsScore():\n",
    "    pass\n",
    "\n",
    "fsScore()"
   ]
  },
  {
   "cell_type": "code",
   "execution_count": 2,
   "metadata": {},
   "outputs": [],
   "source": [
    "def msScore():\n",
    "    pass\n",
    "\n",
    "msScore"
   ]
  }
 ],
 "metadata": {
  "kernelspec": {
   "display_name": "Python 3",
   "language": "python",
   "name": "python3"
  },
  "language_info": {
   "codemirror_mode": {
    "name": "ipython",
    "version": 3
   },
   "file_extension": ".py",
   "mimetype": "text/x-python",
   "name": "python",
   "nbconvert_exporter": "python",
   "pygments_lexer": "ipython3",
   "version": "3.10.7"
  },
  "orig_nbformat": 4
 },
 "nbformat": 4,
 "nbformat_minor": 2
}
