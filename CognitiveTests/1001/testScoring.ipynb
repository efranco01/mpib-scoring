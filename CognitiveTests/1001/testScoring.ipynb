{
 "cells": [
  {
   "cell_type": "code",
   "execution_count": 1,
   "metadata": {},
   "outputs": [],
   "source": [
    "# INPUT:\n",
    "# TODO: Build simple ui or just use terminal for inputs\n",
    "# TODO: Automatically score scripts that have been found in directory\n",
    "\n",
    "# SCORING:\n",
    "# TODO: Make sure to score all trials separately (practices can be scored all at once)\n",
    "# TODO: All proportion correct should be displayed in percentage format\n",
    "# TODO: Make sure to average response time\n",
    "# TODO: Display response times per each response later on\n",
    "# TODO: Response time correct vs incorrect avgs\n",
    "# TODO: Score distance using city block method (will be in the nitty gritty area)\n",
    "# TODO: Score avg distance across trials\n",
    "\n",
    "# OUTPUT:\n",
    "# TODO: Open csv for each test scored\n",
    "# TODO: Show preliminary information first\n",
    "# TODO: Display more in-depth details further along (horizontal)\n",
    "# TODO: Display avg distance from correct block (incorrect answers) in the \n",
    "# TODO: Place all scored files in scored directory\n",
    "# TODO: Print LOGS stating what is being done\n",
    "\n",
    "# FINAL:\n",
    "# TODO: Migrate .ipynb to .py format and finish syncing script\n",
    "# TODO: Make script executable?!?!\n",
    "# TODO: Allow for more in-depth customization in args (argparse)"
   ]
  },
  {
   "cell_type": "code",
   "execution_count": 29,
   "metadata": {},
   "outputs": [],
   "source": [
    "import numpy as np\n",
    "import pandas as pd\n",
    "import matplotlib.pyplot as plot\n",
    "import os\n",
    "import logging as log\n",
    "\n",
    "class Util:\n",
    "    def __init__(self) -> None:\n",
    "        pass\n",
    "\n",
    "    def findFile(self, testName=str):\n",
    "\n",
    "        # Get the current directory\n",
    "        currentDir = os.getcwd()\n",
    "\n",
    "        # Search for a txt file in the current directory\n",
    "        for file in os.listdir(currentDir):\n",
    "            if file.endswith('.txt'):\n",
    "                if testName in file:\n",
    "                    # If a TXT file is found, read it into a Pandas dataframe\n",
    "                    df = pd.read_csv(os.path.join(currentDir, file), delimiter='\\t')\n",
    "                    print(f'Successfully read file: {file}')\n",
    "                    return df\n",
    "        else:\n",
    "            # If no txt file is found, print an error message\n",
    "            print(f'No TXT file named {testName} found in current directory')\n",
    "\n",
    "    def getTrialType(self, df=pd.DataFrame):\n",
    "        # List different types of trials in the dataframe\n",
    "        trialTypes = df.iloc[:, 4].unique()\n",
    "        return trialTypes\n",
    "    \n",
    "    def subsetByTrial(self, df=pd.DataFrame, trialTypes=np.ndarray):\n",
    "        # Create a list to hold the subsetted dataframes\n",
    "        subsetList = []\n",
    "        # Subset data based on trial number\n",
    "        for trial in trialTypes:\n",
    "            # Create a new dataframe for each trial type\n",
    "            trialDf = df[df.iloc[:, 4] == trial]\n",
    "            # Add each dataframe to a list\n",
    "            subsetList.append(trialDf)\n",
    "        # Return the list of dataframes\n",
    "        return subsetList\n",
    "    \n",
    "    \n",
    "class InputHandler(Util):\n",
    "    def __init__(self) -> None:\n",
    "        super().__init__()\n",
    "\n",
    "\n",
    "class OutputHandler(Util):\n",
    "    def __init__(self) -> None:\n",
    "        super().__init__()\n",
    "\n",
    "myUtil = Util()\n",
    "myOutputHandler = OutputHandler()\n"
   ]
  },
  {
   "cell_type": "code",
   "execution_count": 33,
   "metadata": {},
   "outputs": [
    {
     "name": "stdout",
     "output_type": "stream",
     "text": [
      "Successfully read file: 1001_FiguralSpeed.txt\n",
      "['PRACT  ' 'TRIAL1 ' 'TRIAL2 ']\n",
      "    1001   2   6   1   PRACT     1   8000   500   2 .1  Fa4_1211   ...  /   \\\n",
      "79   1001   2   6   3  TRIAL2     1   8000   500     1  Fc4_3113   ...  z    \n",
      "80   1001   2   6   3  TRIAL2     2   8000   500     2  Fc2_3221   ...  /    \n",
      "81   1001   2   6   3  TRIAL2     3   8000   500     1  Fc2_3332   ...  z    \n",
      "82   1001   2   6   3  TRIAL2     4   8000   500     1  Fc2_1231   ...  z    \n",
      "83   1001   2   6   3  TRIAL2     5   8000   500     1  Fc4_2333   ...  z    \n",
      "\n",
      "   / .1 1 .1  1741   2023   4   5   15   38   21  \n",
      "79   z     1   2762   2023   4   5   15   42  50  \n",
      "80   /     1   3038   2023   4   5   15   42  50  \n",
      "81   z     1   3599   2023   4   5   15   42  50  \n",
      "82   z     1   3095   2023   4   5   15   42  50  \n",
      "83   z     1   3718   2023   4   5   15   42  50  \n",
      "\n",
      "[5 rows x 21 columns]\n"
     ]
    }
   ],
   "source": [
    "def fsScore():\n",
    "\n",
    "    # grab test document\n",
    "    fs = myUtil.findFile('FiguralSpeed')\n",
    "    \n",
    "    # determine all unique trials\n",
    "    trials = myUtil.getTrialType(fs)\n",
    "    \n",
    "    # subset data by trial\n",
    "    trialDfs = myUtil.subsetByTrial(fs, trials)\n",
    "\n",
    "    # score each trial\n",
    "    for trial in trialDfs:\n",
    "        \n",
    "\n",
    "\n",
    "    # outputs!!!\n",
    "\n",
    "\n",
    "\n",
    "\n",
    "\n",
    "fsScore()"
   ]
  },
  {
   "cell_type": "code",
   "execution_count": 5,
   "metadata": {},
   "outputs": [
    {
     "name": "stdout",
     "output_type": "stream",
     "text": [
      "<class 'pandas.core.frame.DataFrame'>\n"
     ]
    }
   ],
   "source": [
    "def luScore():\n",
    "    pass    \n",
    "\n",
    "luScore()"
   ]
  },
  {
   "cell_type": "code",
   "execution_count": 2,
   "metadata": {},
   "outputs": [],
   "source": [
    "def msScore():\n",
    "    pass\n",
    "\n",
    "msScore"
   ]
  },
  {
   "cell_type": "code",
   "execution_count": null,
   "metadata": {},
   "outputs": [],
   "source": [
    "def nmScore():\n",
    "    pass\n",
    "\n",
    "nmScore()"
   ]
  },
  {
   "cell_type": "code",
   "execution_count": null,
   "metadata": {},
   "outputs": [],
   "source": [
    "# this test has a different trial format and the column is 6 instead of 5\n",
    "def nbScore():\n",
    "    \n",
    "    pass\n",
    "\n",
    "nbScore()"
   ]
  },
  {
   "cell_type": "code",
   "execution_count": null,
   "metadata": {},
   "outputs": [],
   "source": [
    "def nsScore():\n",
    "    pass\n",
    "\n",
    "nsScore()"
   ]
  },
  {
   "cell_type": "code",
   "execution_count": null,
   "metadata": {},
   "outputs": [],
   "source": [
    "def olmScore():\n",
    "    pass\n",
    "\n",
    "olmScore()"
   ]
  },
  {
   "cell_type": "code",
   "execution_count": null,
   "metadata": {},
   "outputs": [],
   "source": [
    "def suScore():\n",
    "    pass\n",
    "\n",
    "suScore()"
   ]
  },
  {
   "cell_type": "code",
   "execution_count": null,
   "metadata": {},
   "outputs": [],
   "source": [
    "def stScore():\n",
    "    pass\n",
    "\n",
    "stScore()"
   ]
  },
  {
   "cell_type": "code",
   "execution_count": null,
   "metadata": {},
   "outputs": [],
   "source": [
    "def vsScore():\n",
    "    pass\n",
    "\n",
    "vsScore()"
   ]
  },
  {
   "cell_type": "code",
   "execution_count": null,
   "metadata": {},
   "outputs": [],
   "source": [
    "def wrScore():\n",
    "    pass\n",
    "\n",
    "wrScore()"
   ]
  }
 ],
 "metadata": {
  "kernelspec": {
   "display_name": "Python 3",
   "language": "python",
   "name": "python3"
  },
  "language_info": {
   "codemirror_mode": {
    "name": "ipython",
    "version": 3
   },
   "file_extension": ".py",
   "mimetype": "text/x-python",
   "name": "python",
   "nbconvert_exporter": "python",
   "pygments_lexer": "ipython3",
   "version": "3.10.7"
  },
  "orig_nbformat": 4
 },
 "nbformat": 4,
 "nbformat_minor": 2
}
